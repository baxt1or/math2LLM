{
 "cells": [
  {
   "cell_type": "code",
   "execution_count": 1,
   "id": "8db8c9da",
   "metadata": {},
   "outputs": [],
   "source": [
    "import numpy as np\n",
    "import torch"
   ]
  },
  {
   "cell_type": "markdown",
   "id": "26974fda",
   "metadata": {},
   "source": [
    "# Pytorch size meaning\n",
    "- (3, 4, 2)\n",
    "- first comes as dimention \n",
    "- second matrix rows\n",
    "- third matrix columns"
   ]
  },
  {
   "cell_type": "markdown",
   "id": "95b2c913",
   "metadata": {},
   "source": [
    "X =\n",
    "\\begin{bmatrix}\n",
    "\\begin{pmatrix}\n",
    "1 & 0 \\\\\n",
    "2 & 3\n",
    "\\end{pmatrix},\n",
    "\\begin{pmatrix}\n",
    "4 & 1 \\\\\n",
    "0 & 2\n",
    "\\end{pmatrix}\n",
    "\\end{bmatrix}\n",
    "\n",
    "W =\n",
    "\\begin{bmatrix}\n",
    "\\begin{pmatrix}\n",
    "1 & 2 \\\\\n",
    "0 & 1\n",
    "\\end{pmatrix},\n",
    "\\begin{pmatrix}\n",
    "-1 & 0 \\\\\n",
    "2 & 3\n",
    "\\end{pmatrix}\n",
    "\\end{bmatrix}\n"
   ]
  },
  {
   "cell_type": "code",
   "execution_count": 9,
   "id": "6cbd91b9",
   "metadata": {},
   "outputs": [
    {
     "name": "stdout",
     "output_type": "stream",
     "text": [
      "Numpy version\n",
      "(2, 2, 2)\n",
      "(2, 2, 2)\n",
      "[[[ 1  2]\n",
      "  [ 2  7]]\n",
      "\n",
      " [[-2  3]\n",
      "  [ 4  6]]]\n",
      "\n",
      "Pytorch Tensor\n",
      "tensor([[[ 1,  2],\n",
      "         [ 2,  7]],\n",
      "\n",
      "        [[-2,  3],\n",
      "         [ 4,  6]]])\n"
     ]
    }
   ],
   "source": [
    "X = [\n",
    "    [\n",
    "        [1, 0],\n",
    "        [2, 3]\n",
    "    ],\n",
    "    [\n",
    "        [4, 1],\n",
    "        [0, 2]\n",
    "    ]\n",
    "]\n",
    "\n",
    "W = [\n",
    "    [\n",
    "        [1,2],\n",
    "        [0, 1]\n",
    "    ],\n",
    "    [\n",
    "        [-1, 0],\n",
    "        [2, 3]\n",
    "    ]\n",
    "]\n",
    "\n",
    "X = np.array(X)\n",
    "W = np.array(W)\n",
    "\n",
    "print(\"Numpy version\")\n",
    "print(X.shape); print(W.shape); print(X @ W)\n",
    "\n",
    "X = torch.tensor(X)\n",
    "W = torch.tensor(W)\n",
    "\n",
    "print(\"\\nPytorch Tensor\")\n",
    "print(X@W)"
   ]
  },
  {
   "cell_type": "markdown",
   "id": "99eaf294",
   "metadata": {},
   "source": [
    "A 3-layer input passes through linear layer weights:\n",
    "\t•\tInput:\n",
    "x =\n",
    "\\begin{pmatrix}\n",
    "1 & 2 & 3\n",
    "\\end{pmatrix}\n",
    "\t•\tWeights:\n",
    "W =\n",
    "\\begin{pmatrix}\n",
    "1 & 0 \\\\\n",
    "2 & 1 \\\\\n",
    "-1 & 3\n",
    "\\end{pmatrix}\n",
    "\n",
    "Compute output xW.\n",
    "\n",
    "Then add bias:\n",
    "b =\n",
    "\\begin{pmatrix}\n",
    "1 & 2\n",
    "\\end{pmatrix}\n",
    "\n",
    "Final result = xW + b"
   ]
  },
  {
   "cell_type": "code",
   "execution_count": 20,
   "id": "78274c09",
   "metadata": {},
   "outputs": [
    {
     "data": {
      "text/plain": [
       "(torch.Size([3]), torch.Size([3, 2]), True, (1, 2), tensor([ 3, 13]))"
      ]
     },
     "execution_count": 20,
     "metadata": {},
     "output_type": "execute_result"
    }
   ],
   "source": [
    "x = torch.tensor([1, 2, 3])\n",
    "W = torch.tensor([\n",
    "    [1, 0],\n",
    "    [2, 1],\n",
    "    [-1, 3]\n",
    "])\n",
    "b = torch.tensor([1, 2])\n",
    "\n",
    "out = [\n",
    "    [2,11]\n",
    "]\n",
    "\n",
    "x.shape, W.shape, W.shape == (3, 2), (1, 2), x @ W + b"
   ]
  },
  {
   "cell_type": "code",
   "execution_count": 23,
   "id": "71d32923",
   "metadata": {},
   "outputs": [
    {
     "name": "stdout",
     "output_type": "stream",
     "text": [
      "(3, 2, 2)\n",
      "torch.Size([3, 2, 2])\n"
     ]
    }
   ],
   "source": [
    "A = [\n",
    "    [\n",
    "        [1, 0],\n",
    "        [2, 3]\n",
    "    ],\n",
    "    [\n",
    "        [4, 1],\n",
    "        [0, 2]\n",
    "    ],\n",
    "    [\n",
    "        [4, 1],\n",
    "        [0, 2]\n",
    "    ],\n",
    "]\n",
    "\n",
    "B = [\n",
    "    [\n",
    "        [1,2],\n",
    "        [0, 1]\n",
    "    ],\n",
    "    [\n",
    "        [-1, 0],\n",
    "        [2, 3]\n",
    "    ]\n",
    "]\n",
    "\n",
    "print(np.array(A).shape); print(torch.tensor(A).shape)"
   ]
  },
  {
   "cell_type": "code",
   "execution_count": 26,
   "id": "e6c6a67c",
   "metadata": {},
   "outputs": [
    {
     "data": {
      "text/plain": [
       "(tensor([[[0.6663, 0.3907],\n",
       "          [0.7889, 0.0619]],\n",
       " \n",
       "         [[0.0079, 0.2142],\n",
       "          [0.8482, 0.1581]],\n",
       " \n",
       "         [[0.5592, 0.3615],\n",
       "          [0.7184, 0.1163]],\n",
       " \n",
       "         [[0.6747, 0.1796],\n",
       "          [0.8750, 0.9304]],\n",
       " \n",
       "         [[0.2661, 0.1588],\n",
       "          [0.9100, 0.8441]]]),\n",
       " tensor([[[0, 0],\n",
       "          [0, 0],\n",
       "          [0, 0]],\n",
       " \n",
       "         [[0, 0],\n",
       "          [0, 0],\n",
       "          [0, 0]],\n",
       " \n",
       "         [[0, 0],\n",
       "          [0, 0],\n",
       "          [0, 0]],\n",
       " \n",
       "         [[0, 0],\n",
       "          [0, 0],\n",
       "          [0, 0]],\n",
       " \n",
       "         [[0, 0],\n",
       "          [0, 0],\n",
       "          [0, 0]],\n",
       " \n",
       "         [[0, 0],\n",
       "          [0, 0],\n",
       "          [0, 0]],\n",
       " \n",
       "         [[0, 0],\n",
       "          [0, 0],\n",
       "          [0, 0]]]))"
      ]
     },
     "execution_count": 26,
     "metadata": {},
     "output_type": "execute_result"
    }
   ],
   "source": [
    "torch.rand((5, 2, 2)), torch.randint(0, 1, (7, 3, 2))"
   ]
  },
  {
   "cell_type": "markdown",
   "id": "43b1091a",
   "metadata": {},
   "source": [
    "Given:\n",
    "\t•\tBatch input X: shape (3,4)\n",
    "\n",
    "X =\n",
    "\\begin{pmatrix}\n",
    "1 & 2 & 3 & 4 \\\\\n",
    "0 & 1 & -1 & 2 \\\\\n",
    "2 & 0 & 1 & 3\n",
    "\\end{pmatrix}\n",
    "\t•\tWeight matrix W: shape (4, 3)\n",
    "\n",
    "W =\n",
    "\\begin{pmatrix}\n",
    "1 & 0 & 2 \\\\\n",
    "-1 & 1 & 0 \\\\\n",
    "2 & -2 & 1 \\\\\n",
    "0 & 3 & -1\n",
    "\\end{pmatrix}\n",
    "\t•\tBias b = (1, 2, -1)\n",
    "\n",
    "Compute output:\n",
    "Z = XW + b\n",
    "\n",
    "Then apply ReLU manually:\n",
    "\\text{ReLU}(z) = \\max(0, z)"
   ]
  },
  {
   "cell_type": "code",
   "execution_count": 32,
   "id": "28502d1e",
   "metadata": {},
   "outputs": [
    {
     "name": "stdout",
     "output_type": "stream",
     "text": [
      "tensor([[ 6, 10,  0],\n",
      "        [-2, 11, -4],\n",
      "        [ 5,  9,  1]])\n",
      "torch.Size([3, 3])\n"
     ]
    }
   ],
   "source": [
    "X = np.array([\n",
    "    [1, 2, 3, 4], \n",
    "    [0, 1, -1, 2],\n",
    "    [2, 0, 1, 3]\n",
    "])\n",
    "\n",
    "W = np.array([\n",
    "    [1, 0, 2],\n",
    "    [-1,1, 0],\n",
    "    [2, -2, 1],\n",
    "    [0, 3, -1]\n",
    "])\n",
    "\n",
    "b = np.array([1, 2, -1])\n",
    "\n",
    "\n",
    "z = torch.tensor(X) @ torch.tensor(W) + torch.tensor(b)\n",
    "\n",
    "print(z); print(z.shape); \n",
    "# print(torch.nn.ReLU(z))"
   ]
  },
  {
   "cell_type": "markdown",
   "id": "7ddb96b3",
   "metadata": {},
   "source": [
    "Given vectors:\n",
    "\n",
    "u = (2, 3, 1), \\quad v = (4, 0, -2, 1)\n",
    "\n",
    "Compute:\n",
    "\n",
    "u^T \\cdot v"
   ]
  },
  {
   "cell_type": "code",
   "execution_count": 51,
   "id": "d6c1d6fa",
   "metadata": {},
   "outputs": [
    {
     "name": "stdout",
     "output_type": "stream",
     "text": [
      "torch.Size([3])\n",
      "torch.Size([4])\n",
      "torch.Size([3])\n"
     ]
    },
    {
     "data": {
      "text/plain": [
       "(torch.Size([1, 4]),\n",
       " torch.Size([3, 1]),\n",
       " tensor([[ 8,  0, -4,  2],\n",
       "         [12,  0, -6,  3],\n",
       "         [ 4,  0, -2,  1]]))"
      ]
     },
     "execution_count": 51,
     "metadata": {},
     "output_type": "execute_result"
    }
   ],
   "source": [
    "u = torch.tensor([2, 3, 1])\n",
    "v = torch.tensor([4, 0, -2, 1])\n",
    "\n",
    "print(u.shape); print(v.shape); print(u.T.shape)\n",
    "\n",
    "\n",
    "v.view(1, -1).shape, u.T.unsqueeze(-1).shape, u.T.unsqueeze(-1) @ v.view(1, -1)"
   ]
  },
  {
   "cell_type": "markdown",
   "id": "94b15f27",
   "metadata": {},
   "source": [
    "✅ Level 8 — Tensor Reshape + MatMul\n",
    "\n",
    "You have tensor T shape (2, 3, 4):\n",
    "\n",
    "T =\n",
    "\\begin{bmatrix}\n",
    "\\begin{pmatrix}\n",
    "1 & 0 & 2 & 3 \\\\\n",
    "2 & 1 & 0 & 1 \\\\\n",
    "1 & 1 & 1 & 1\n",
    "\\end{pmatrix},\n",
    "\\begin{pmatrix}\n",
    "0 & 2 & 1 & 1 \\\\\n",
    "3 & 1 & 2 & 0 \\\\\n",
    "2 & 3 & 0 & 1\n",
    "\\end{pmatrix}\n",
    "\\end{bmatrix}\n",
    "\n",
    "And weight matrix W shape (4,2):\n",
    "\n",
    "W =\n",
    "\\begin{pmatrix}\n",
    "1 & 0 \\\\\n",
    "2 & 1 \\\\\n",
    "0 & 1 \\\\\n",
    "3 & -1\n",
    "\\end{pmatrix}\n",
    "\n",
    "Tasks\n",
    "\t1.\tMultiply using batch matrix multiply: torch.bmm(T, W.unsqueeze(0).repeat(2,1,1))\n",
    "\t2.\tReshape T to shape (6,4) and multiply by W\n",
    "\n",
    "Results must match (reshaped output → reshape back to (2,3,2))"
   ]
  },
  {
   "cell_type": "code",
   "execution_count": 61,
   "id": "3cbca66f",
   "metadata": {},
   "outputs": [
    {
     "name": "stdout",
     "output_type": "stream",
     "text": [
      "tensor([[1, 0, 2, 3],\n",
      "        [2, 1, 0, 1],\n",
      "        [1, 1, 1, 1],\n",
      "        [0, 2, 1, 1],\n",
      "        [3, 1, 2, 0],\n",
      "        [2, 3, 0, 1]])\n",
      "tensor([[[10, -1],\n",
      "         [ 7,  0],\n",
      "         [ 6,  1]],\n",
      "\n",
      "        [[ 7,  2],\n",
      "         [ 5,  3],\n",
      "         [11,  2]]])\n",
      "torch.Size([2, 3, 4])\n",
      "2 version\n",
      "tensor([[[10, -1],\n",
      "         [ 7,  0],\n",
      "         [ 6,  1]],\n",
      "\n",
      "        [[ 7,  2],\n",
      "         [ 5,  3],\n",
      "         [11,  2]]])\n",
      "torch.Size([2, 3, 2])\n",
      "Unsqueezed\n",
      "tensor([[[ 1,  0],\n",
      "         [ 2,  1],\n",
      "         [ 0,  1],\n",
      "         [ 3, -1]]])\n"
     ]
    }
   ],
   "source": [
    "T = np.array([\n",
    "    [\n",
    "       [1, 0, 2, 3],\n",
    "       [2, 1, 0, 1],\n",
    "       [1, 1, 1, 1]\n",
    "    ],\n",
    "    [\n",
    "       [0, 2, 1, 1],\n",
    "       [3, 1, 2, 0],\n",
    "       [2,3, 0, 1]\n",
    "    ]\n",
    "])\n",
    "\n",
    "\n",
    "[[1, 0, 2, 3],\n",
    " [2, 1, 0, 1],\n",
    " [1, 1, 1, 1],\n",
    " [0, 2, 1, 1],\n",
    " [3, 1, 2, 0],\n",
    " [2, 3, 0, 1]]\n",
    "\n",
    "\n",
    "\n",
    "W = np.array([\n",
    "    [1, 0],\n",
    "    [2, 1],\n",
    "    [0, 1],\n",
    "    [3, -1]\n",
    "])\n",
    "\n",
    "\n",
    "T = torch.tensor(T)\n",
    "W = torch.tensor(W)\n",
    "\n",
    "\n",
    "print(T.view(2*3, 4)) # 2 dimention becomes as 1\n",
    "print((T.view(6, 4)@W).view(2, 3, 2))\n",
    "print(T.shape)\n",
    "\n",
    "print(\"2 version\")\n",
    "print((T@W));\n",
    "print((T@W).shape); \n",
    "print('Unsqueezed')\n",
    "print(W.unsqueeze(0))\n"
   ]
  },
  {
   "cell_type": "markdown",
   "id": "57a63cb6",
   "metadata": {},
   "source": [
    " Level 9 — Gradient Interpretation\n",
    "\n",
    "Let\n",
    "\n",
    "x = \\begin{pmatrix}1 & -2\\end{pmatrix},\\\n",
    "W = \\begin{pmatrix}3 & 1 \\\\ 2 & -1\\end{pmatrix}\n",
    "\n",
    "Compute manually:\n",
    "\n",
    "y = xW\n",
    "\n",
    "Then compute Jacobian \\frac{\\partial y}{\\partial x}."
   ]
  },
  {
   "cell_type": "code",
   "execution_count": null,
   "id": "33b02ee6",
   "metadata": {},
   "outputs": [
    {
     "name": "stdout",
     "output_type": "stream",
     "text": [
      "tensor([-1.,  3.], grad_fn=<SqueezeBackward4>)\n",
      "torch.Size([2])\n",
      "torch.Size([2]) torch.Size([2, 2])\n",
      "f tensor([-1.,  3.], grad_fn=<SqueezeBackward4>)\n",
      "x grad tensor([4., 1.])\n",
      "(1, 2) (2, 2)\n",
      "out: (1, 2)\n"
     ]
    }
   ],
   "source": [
    "x = torch.tensor([1, -2], requires_grad=True, dtype=torch.float32)\n",
    "W = torch.tensor([\n",
    "    [3, 1],\n",
    "    [2, -1]\n",
    "], requires_grad=True, dtype=torch.float32)\n",
    "\n",
    "\n",
    "\n",
    "f = (x @ W)\n",
    "\n",
    "# derivative = dy/dx=W\n",
    "\n",
    "\n",
    "print(f)\n",
    "print(f.shape)\n",
    "print(x.shape, W.shape); \n",
    "\n",
    "f.backward(torch.ones_like(f))\n",
    "\n",
    "print('f',f)\n",
    "print('x grad',x.grad)\n",
    "print((1, 2), (2, 2)); \n",
    "print(\"out:\", (1, 2))\n",
    "\n"
   ]
  },
  {
   "cell_type": "code",
   "execution_count": 89,
   "id": "b530f20a",
   "metadata": {},
   "outputs": [
    {
     "name": "stdout",
     "output_type": "stream",
     "text": [
      "tensor([-1.,  3.], grad_fn=<SqueezeBackward4>)\n",
      "tensor(2., grad_fn=<SumBackward0>)\n",
      "tensor([4., 1.])\n"
     ]
    }
   ],
   "source": [
    "x = torch.tensor([1, -2], requires_grad=True, dtype=torch.float32)\n",
    "W = torch.tensor([\n",
    "    [3, 1],\n",
    "    [2, -1]\n",
    "], requires_grad=True, dtype=torch.float32)\n",
    "\n",
    "\n",
    "x.grad = None\n",
    "f = x @ W\n",
    "print(f)\n",
    "loss = f.sum()\n",
    "print(loss)\n",
    "loss.backward()\n",
    "print(x.grad)"
   ]
  }
 ],
 "metadata": {
  "kernelspec": {
   "display_name": "Python 3",
   "language": "python",
   "name": "python3"
  },
  "language_info": {
   "codemirror_mode": {
    "name": "ipython",
    "version": 3
   },
   "file_extension": ".py",
   "mimetype": "text/x-python",
   "name": "python",
   "nbconvert_exporter": "python",
   "pygments_lexer": "ipython3",
   "version": "3.14.0"
  }
 },
 "nbformat": 4,
 "nbformat_minor": 5
}
