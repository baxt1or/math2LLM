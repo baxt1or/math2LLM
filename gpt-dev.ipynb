{
 "cells": [
  {
   "cell_type": "code",
   "execution_count": 2,
   "id": "7bfccfda",
   "metadata": {},
   "outputs": [],
   "source": [
    "import numpy as np\n",
    "import matplotlib.pyplot as plt\n",
    "import seaborn as sns\n",
    "import pandas as pd \n",
    "import os \n",
    "import sys \n",
    "\n",
    "\n",
    "pd.set_option(\"display.max_columns\", None)"
   ]
  },
  {
   "cell_type": "code",
   "execution_count": 9,
   "id": "6cfb7221",
   "metadata": {},
   "outputs": [],
   "source": [
    "file_path = os.path.join(\"./\", \"input.txt\")\n",
    "\n",
    "with open(\"input.txt\", 'r') as f:\n",
    "    text = f.read()"
   ]
  },
  {
   "cell_type": "code",
   "execution_count": 31,
   "id": "df7e0c9e",
   "metadata": {},
   "outputs": [
    {
     "name": "stdout",
     "output_type": "stream",
     "text": [
      "All characters:\n",
      " eAK PZ,roim:cMW-IOFsl$daNU!RVHxGfC&wB3YXL;kjtJ'qzEbn.pSDyQTh?\n",
      "uvg\n",
      "\n",
      "Vocab size: 65\n"
     ]
    }
   ],
   "source": [
    "chars = list(set(text))\n",
    "vocab_size = len(chars)\n",
    "print(\"All characters:\\n\", \"\".join(chars))\n",
    "print(\"\\nVocab size:\", vocab_size)"
   ]
  },
  {
   "cell_type": "code",
   "execution_count": 41,
   "id": "06621b3b",
   "metadata": {},
   "outputs": [
    {
     "name": "stdout",
     "output_type": "stream",
     "text": [
      "[59, 9, 9, 3, 44, 59, 0, 7, 0]\n",
      "hii there\n"
     ]
    }
   ],
   "source": [
    "stoi = {c:i for i, c in enumerate(chars)}\n",
    "itoi = {i:c for i, c in enumerate(chars)}\n",
    "\n",
    "encode = lambda s: [stoi[c] for c in s]\n",
    "decode = lambda tokens: \"\".join([itoi[t] for t in tokens])\n",
    "\n",
    "\n",
    "print(encode(\"hii there\"))\n",
    "print(decode(encode(\"hii there\")))"
   ]
  },
  {
   "cell_type": "code",
   "execution_count": 42,
   "id": "3ca557ca",
   "metadata": {},
   "outputs": [],
   "source": [
    "data = np.array(encode(text))"
   ]
  },
  {
   "cell_type": "code",
   "execution_count": null,
   "id": "a6eddbca",
   "metadata": {},
   "outputs": [
    {
     "data": {
      "text/plain": [
       "True"
      ]
     },
     "execution_count": 46,
     "metadata": {},
     "output_type": "execute_result"
    }
   ],
   "source": [
    "len(data)"
   ]
  }
 ],
 "metadata": {
  "kernelspec": {
   "display_name": "Python 3",
   "language": "python",
   "name": "python3"
  },
  "language_info": {
   "codemirror_mode": {
    "name": "ipython",
    "version": 3
   },
   "file_extension": ".py",
   "mimetype": "text/x-python",
   "name": "python",
   "nbconvert_exporter": "python",
   "pygments_lexer": "ipython3",
   "version": "3.14.0"
  }
 },
 "nbformat": 4,
 "nbformat_minor": 5
}
