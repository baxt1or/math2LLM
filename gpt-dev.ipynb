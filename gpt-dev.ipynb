{
 "cells": [
  {
   "cell_type": "code",
   "execution_count": 1,
   "id": "a090857b",
   "metadata": {},
   "outputs": [
    {
     "name": "stdout",
     "output_type": "stream",
     "text": [
      "2.9.0\n"
     ]
    }
   ],
   "source": [
    "import torch\n",
    "import matplotlib.pyplot as plt\n",
    "import numpy as np\n",
    "\n",
    "\n",
    "print(torch.__version__)"
   ]
  },
  {
   "cell_type": "code",
   "execution_count": null,
   "id": "6a1e2e9f",
   "metadata": {},
   "outputs": [],
   "source": [
    "file_path = \"/Users/baxtiyorbekmurodov/Desktop/math2LLM/data/input.txt\"\n",
    "\n",
    "with open(file_path, 'r') as f:\n",
    "    text = f.read()"
   ]
  },
  {
   "cell_type": "code",
   "execution_count": 3,
   "id": "29488a60",
   "metadata": {},
   "outputs": [
    {
     "name": "stdout",
     "output_type": "stream",
     "text": [
      "65\n",
      "xhTEaKWXYtrA?sZOSz,Ln-G elqPgyMQ:;jI'm&3Vf!.$F\n",
      "BpwuvicCHkNRbUodJD\n"
     ]
    }
   ],
   "source": [
    "chars = list(set(text))\n",
    "vocab_size = len(chars)\n",
    "print(vocab_size)\n",
    "print(\"\".join(chars))"
   ]
  },
  {
   "cell_type": "code",
   "execution_count": 4,
   "id": "92882b2e",
   "metadata": {},
   "outputs": [
    {
     "name": "stdout",
     "output_type": "stream",
     "text": [
      "[1, 52, 52, 23, 9, 1, 24, 10, 24]\n",
      "hii there\n"
     ]
    }
   ],
   "source": [
    "stoi = {c:i for i,c in enumerate(chars)}\n",
    "itoi = {i:c for i, c in enumerate(chars)}\n",
    "\n",
    "encode = lambda s: [stoi[c] for c in s]\n",
    "decode = lambda tokens: ''.join([itoi[t] for t in tokens])\n",
    "\n",
    "print(encode(\"hii there\"))\n",
    "print(decode(encode(\"hii there\")))"
   ]
  },
  {
   "cell_type": "code",
   "execution_count": 5,
   "id": "1d3ac7e7",
   "metadata": {},
   "outputs": [],
   "source": [
    "data = torch.tensor(encode(text), dtype=torch.long)"
   ]
  },
  {
   "cell_type": "code",
   "execution_count": 6,
   "id": "5aab5999",
   "metadata": {},
   "outputs": [
    {
     "name": "stdout",
     "output_type": "stream",
     "text": [
      "torch.int64\n",
      "1\n",
      "tensor([45, 52, 10, 13,  9])\n"
     ]
    }
   ],
   "source": [
    "print(data.dtype)\n",
    "print(data.ndim)\n",
    "print(data[:5])"
   ]
  },
  {
   "cell_type": "code",
   "execution_count": 7,
   "id": "bf06c698",
   "metadata": {},
   "outputs": [
    {
     "name": "stdout",
     "output_type": "stream",
     "text": [
      "1115394\n",
      "0.8999994620734916\n",
      "0.10000053792650848\n"
     ]
    }
   ],
   "source": [
    "# spliting data into train/ val: 90% for training\n",
    "n = len(data)\n",
    "tr_size = int(n *0.9)\n",
    "train_data = data[:tr_size]\n",
    "val_data = data[tr_size:]\n",
    "\n",
    "print(n); print(len(train_data) / n); print(len(val_data)/n)"
   ]
  },
  {
   "cell_type": "code",
   "execution_count": 8,
   "id": "2d030d48",
   "metadata": {},
   "outputs": [
    {
     "name": "stdout",
     "output_type": "stream",
     "text": [
      "Input: tensor([45]) --> target=52\n",
      "Input: tensor([45, 52]) --> target=10\n",
      "Input: tensor([45, 52, 10]) --> target=13\n",
      "Input: tensor([45, 52, 10, 13]) --> target=9\n",
      "Input: tensor([45, 52, 10, 13,  9]) --> target=23\n",
      "Input: tensor([45, 52, 10, 13,  9, 23]) --> target=54\n",
      "Input: tensor([45, 52, 10, 13,  9, 23, 54]) --> target=52\n",
      "Input: tensor([45, 52, 10, 13,  9, 23, 54, 52]) --> target=9\n"
     ]
    }
   ],
   "source": [
    "block_size = 8\n",
    "\n",
    "x = train_data[:block_size]\n",
    "y = train_data[1:block_size+1:]\n",
    "\n",
    "for i in range(block_size):\n",
    "  context = x[:i+1]\n",
    "  target = y[i]\n",
    "  print(f\"Input: {context} --> target={target}\")"
   ]
  },
  {
   "cell_type": "code",
   "execution_count": 9,
   "id": "3ef982bf",
   "metadata": {},
   "outputs": [],
   "source": [
    "torch.manual_seed(1332)\n",
    "\n",
    "batch_size = 4\n",
    "block_size = batch_size * 2\n",
    "\n",
    "\n",
    "def get_batch(split :str):\n",
    "    # generates small batch for X input and y target\n",
    "    data = train_data if split == 'train' else val_data\n",
    "    ix = torch.randint(len(data) - block_size, (batch_size, ))\n",
    "    x = torch.stack([data[i:i+block_size] for i in ix])\n",
    "    y = torch.stack([data[i+1:i+block_size+1] for i in ix])\n",
    "\n",
    "    return x, y\n",
    "\n"
   ]
  },
  {
   "cell_type": "code",
   "execution_count": 10,
   "id": "940a2316",
   "metadata": {},
   "outputs": [
    {
     "name": "stdout",
     "output_type": "stream",
     "text": [
      "tensor([[41, 23, 49, 52,  9,  1, 23, 29],\n",
      "        [15, 41, 23, 61, 50, 10, 23, 28],\n",
      "        [59, 50,  9, 23,  4, 23, 13, 25],\n",
      "        [23, 49,  1,  4,  9, 18, 23, 61]])\n",
      "tensor([[23, 49, 52,  9,  1, 23, 29, 61],\n",
      "        [41, 23, 61, 50, 10, 23, 28, 10],\n",
      "        [50,  9, 23,  4, 23, 13, 25, 52],\n",
      "        [49,  1,  4,  9, 18, 23, 61, 36]])\n",
      "--------------------------------\n",
      "Input: [41] --> target=23\n",
      "Input: [41, 23] --> target=49\n",
      "Input: [41, 23, 49] --> target=52\n",
      "Input: [41, 23, 49, 52] --> target=9\n",
      "Input: [41, 23, 49, 52, 9] --> target=1\n",
      "Input: [41, 23, 49, 52, 9, 1] --> target=23\n",
      "Input: [41, 23, 49, 52, 9, 1, 23] --> target=29\n",
      "Input: [41, 23, 49, 52, 9, 1, 23, 29] --> target=61\n",
      "Input: [15] --> target=41\n",
      "Input: [15, 41] --> target=23\n",
      "Input: [15, 41, 23] --> target=61\n",
      "Input: [15, 41, 23, 61] --> target=50\n",
      "Input: [15, 41, 23, 61, 50] --> target=10\n",
      "Input: [15, 41, 23, 61, 50, 10] --> target=23\n",
      "Input: [15, 41, 23, 61, 50, 10, 23] --> target=28\n",
      "Input: [15, 41, 23, 61, 50, 10, 23, 28] --> target=10\n",
      "Input: [59] --> target=50\n",
      "Input: [59, 50] --> target=9\n",
      "Input: [59, 50, 9] --> target=23\n",
      "Input: [59, 50, 9, 23] --> target=4\n",
      "Input: [59, 50, 9, 23, 4] --> target=23\n",
      "Input: [59, 50, 9, 23, 4, 23] --> target=13\n",
      "Input: [59, 50, 9, 23, 4, 23, 13] --> target=25\n",
      "Input: [59, 50, 9, 23, 4, 23, 13, 25] --> target=52\n",
      "Input: [23] --> target=49\n",
      "Input: [23, 49] --> target=1\n",
      "Input: [23, 49, 1] --> target=4\n",
      "Input: [23, 49, 1, 4] --> target=9\n",
      "Input: [23, 49, 1, 4, 9] --> target=18\n",
      "Input: [23, 49, 1, 4, 9, 18] --> target=23\n",
      "Input: [23, 49, 1, 4, 9, 18, 23] --> target=61\n",
      "Input: [23, 49, 1, 4, 9, 18, 23, 61] --> target=36\n"
     ]
    }
   ],
   "source": [
    "xb, yb = get_batch(\"train\")\n",
    "\n",
    "print(xb)\n",
    "print(yb)\n",
    "print(\"-\"*32)\n",
    "\n",
    "\n",
    "for b in range(batch_size):\n",
    "    for t in range(block_size):\n",
    "        context = xb[b, :t+1]\n",
    "        target = yb[b, t]\n",
    "\n",
    "        print(f'Input: {context.tolist()} --> target={target}')\n"
   ]
  },
  {
   "cell_type": "code",
   "execution_count": 21,
   "id": "247b6221",
   "metadata": {},
   "outputs": [
    {
     "name": "stdout",
     "output_type": "stream",
     "text": [
      "torch.Size([32, 65])\n",
      "tensor(4.5335, grad_fn=<NllLossBackward0>)\n",
      "xp3U-yjDYwK!eFwBWHgv.RfC:eu3'jA:-GavHqnolfKOVlexEg.:ukqyqGU:V\n"
     ]
    }
   ],
   "source": [
    "import torch.nn as nn\n",
    "from torch.nn import functional as F\n",
    "\n",
    "torch.manual_seed(1332)\n",
    "\n",
    "\n",
    "class BiagramModel(nn.Module):\n",
    "    def __init__(self, vocab_size):\n",
    "        super().__init__()\n",
    "        self.token_embedding_table = nn.Embedding(vocab_size, vocab_size)\n",
    "    \n",
    "    def forward(self, idx, targets=None):\n",
    "                \n",
    "        logits = self.token_embedding_table(idx)\n",
    "\n",
    "        if targets is None:\n",
    "            loss = None\n",
    "        else:\n",
    "            B, T, C = logits.shape\n",
    "            logits = logits.view(B*T, C)\n",
    "            targets = targets.view(-1)  \n",
    "            loss = F.cross_entropy(logits, targets)\n",
    "\n",
    "        return logits, loss\n",
    "    \n",
    "    def generate(self, idx, max_new_tokens):\n",
    "\n",
    "        for i in range(max_new_tokens):\n",
    "            logits, loss = self(idx)\n",
    "            logits = logits[:, -1, :]\n",
    "\n",
    "            probs = F.softmax(logits, dim=-1)\n",
    "\n",
    "            idx_next = torch.multinomial(probs, num_samples=1)\n",
    "\n",
    "            idx = torch.cat((idx, idx_next), dim=1)\n",
    "        \n",
    "        return idx\n",
    "        \n",
    "    \n",
    "model = BiagramModel(vocab_size)\n",
    "out, loss = model(xb, yb)\n",
    "print(out.shape); \n",
    "print(loss)\n",
    "\n",
    "idx = torch.zeros((1, 1), dtype=torch.long)\n",
    "\n",
    "print(decode(model.generate(idx, 60)[0].tolist()))"
   ]
  },
  {
   "cell_type": "code",
   "execution_count": 30,
   "id": "8ae101f8",
   "metadata": {},
   "outputs": [],
   "source": [
    "optimizer = torch.optim.AdamW(model.parameters(), lr=1e-3)"
   ]
  },
  {
   "cell_type": "code",
   "execution_count": 37,
   "id": "e6bc40ca",
   "metadata": {},
   "outputs": [
    {
     "name": "stdout",
     "output_type": "stream",
     "text": [
      "Iter: 10000 -> loss=2.5197980403900146\n"
     ]
    }
   ],
   "source": [
    "batch_size = 32\n",
    "\n",
    "epochs = 10000\n",
    "\n",
    "for i in range(epochs):\n",
    "\n",
    "    xb, yb = get_batch(\"train\")\n",
    "\n",
    "    logits, loss = model(xb, yb)\n",
    "    optimizer.zero_grad(set_to_none=True)\n",
    "    loss.backward()\n",
    "    optimizer.step()\n",
    "\n",
    "print(f'Iter: {i+1} -> loss={loss.item()}')"
   ]
  },
  {
   "cell_type": "code",
   "execution_count": 41,
   "id": "0a2947cf",
   "metadata": {},
   "outputs": [
    {
     "name": "stdout",
     "output_type": "stream",
     "text": [
      "xive bouse; ithent buthineveat;\n",
      "Frisinoulerue yofeveco pouruther y, invem:\n",
      "IUShimy al\n",
      "severlmyouste p m tup;\n",
      "\n",
      "bun!\n",
      "Lariencolsime blfoust, are, w'lday hispume bige asheme\n",
      "\n",
      "ARDiowod,\n",
      "Ans\n",
      "Nor anoke, sherye pscuancicelinpl, howendows h lllonery.\n",
      "Al gaveathoth viceawe,\n",
      "Thinorencrcthar lesthin ose, m, d cck, whasoruenor, y\n",
      "Hat g anthars nnom? oara l KI wick, athares n lo Bur dldowanth keandem'eede nd ou at thive.\n",
      "ARY b meren is.\n",
      "INETUK: t s aifu RUSO therofu maten. RO:\n",
      "A:\n",
      "But.\n",
      "Po fors ff ba, bugnrooveatthulat.\n",
      "PRLI nan hy wigooweag,\n",
      "Frs chor t ce morasathele ceen s s yo Cus mboninst hibr maroway saghacho t whie.\n",
      "Pioun, havomyor,\n",
      "Mit woupuksty\n",
      "Herdelil INoom.\n",
      "IOr ombl: wsou thed ffolse--art pe t wet\n"
     ]
    }
   ],
   "source": [
    "idx = torch.zeros((1, 1), dtype=torch.long)\n",
    "\n",
    "print(decode(model.generate(idx, 700)[0].tolist()))"
   ]
  }
 ],
 "metadata": {
  "kernelspec": {
   "display_name": "Python 3",
   "language": "python",
   "name": "python3"
  },
  "language_info": {
   "codemirror_mode": {
    "name": "ipython",
    "version": 3
   },
   "file_extension": ".py",
   "mimetype": "text/x-python",
   "name": "python",
   "nbconvert_exporter": "python",
   "pygments_lexer": "ipython3",
   "version": "3.14.0"
  }
 },
 "nbformat": 4,
 "nbformat_minor": 5
}
