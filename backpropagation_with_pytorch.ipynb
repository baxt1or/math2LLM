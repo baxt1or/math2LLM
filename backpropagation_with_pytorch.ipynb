{
 "cells": [
  {
   "cell_type": "code",
   "execution_count": 1,
   "id": "3cd861ea-39fc-4662-9a98-66d07597eb20",
   "metadata": {},
   "outputs": [],
   "source": [
    "import numpy as np\n",
    "import torch \n",
    "import math\n",
    "import matplotlib.pyplot as plt\n",
    "\n",
    "%matplotlib inline"
   ]
  },
  {
   "cell_type": "code",
   "execution_count": 2,
   "id": "0d4ecd2c-aac1-4cb0-8694-af5191f710a6",
   "metadata": {},
   "outputs": [],
   "source": [
    "def f(x): return 3*x**2 - 4*x + 5\n",
    "\n",
    "def df_dx(x): return 6*x - 4"
   ]
  },
  {
   "cell_type": "code",
   "execution_count": 3,
   "id": "8b91700d-d169-415e-a88b-12fdeaf0352f",
   "metadata": {},
   "outputs": [
    {
     "data": {
      "text/plain": [
       "20.0"
      ]
     },
     "execution_count": 3,
     "metadata": {},
     "output_type": "execute_result"
    }
   ],
   "source": [
    "f(3.0)"
   ]
  },
  {
   "cell_type": "code",
   "execution_count": 4,
   "id": "bd521023-7583-406d-980b-4cf9bd44b5ce",
   "metadata": {},
   "outputs": [
    {
     "data": {
      "text/plain": [
       "[<matplotlib.lines.Line2D at 0x12ccd7cb0>]"
      ]
     },
     "execution_count": 4,
     "metadata": {},
     "output_type": "execute_result"
    },
    {
     "data": {
      "image/png": "[encoded data removed]",
      "text/plain": [
       "<Figure size 640x480 with 1 Axes>"
      ]
     },
     "metadata": {},
     "output_type": "display_data"
    }
   ],
   "source": [
    "xs = np.arange(-4, 4, 0.25)\n",
    "ys = f(xs)\n",
    "\n",
    "plt.plot(xs, ys)"
   ]
  },
  {
   "cell_type": "code",
   "execution_count": 5,
   "id": "aca297ff-12f6-4962-b372-b165941448fc",
   "metadata": {},
   "outputs": [],
   "source": [
    "class Value:\n",
    "  def __init__(self, data, _children=(), _op='', label='') -> None:\n",
    "    self.data = data\n",
    "    self._prev = set(_children)\n",
    "    self._op = _op\n",
    "    self.label = label\n",
    "\n",
    "  def __repr__(self) -> str:\n",
    "    return f'Value(data={self.data})'\n",
    "  \n",
    "  def __add__(self, other):\n",
    "    output = Value(self.data + other.data, (self, other), '+')\n",
    "\n",
    "    return output\n",
    "  \n",
    "  def __mul__(self, other):\n",
    "    output = Value(self.data * other.data, (self, other), '*')\n",
    "    return output"
   ]
  },
  {
   "cell_type": "code",
   "execution_count": 6,
   "id": "2b60a9c5-ebc4-4bfc-ac7b-295fbd49a4a9",
   "metadata": {},
   "outputs": [
    {
     "name": "stdout",
     "output_type": "stream",
     "text": [
      "Value(data=-8.0)\n",
      "{Value(data=-2.0), Value(data=4.0)}\n",
      "*\n",
      "L\n"
     ]
    }
   ],
   "source": [
    "a = Value(2.0, label='a'); \n",
    "b = Value(-3.0, label='b')\n",
    "c = Value(10.0, label='c')\n",
    "e = a * b; e.label = 'e'\n",
    "\n",
    "d = e +c; d.label = 'd'\n",
    "f = Value(-2.0, label='f')\n",
    "L = d *f; L.label='L'\n",
    "\n",
    "\n",
    "print(L)\n",
    "print(L._prev)\n",
    "print(L._op)\n",
    "print(L.label)"
   ]
  },
  {
   "cell_type": "code",
   "execution_count": null,
   "id": "a29c8bf4-82bb-4eba-8023-37fded4088c4",
   "metadata": {},
   "outputs": [],
   "source": [
    "from graphviz import Digraph"
   ]
  }
 ],
 "metadata": {
  "kernelspec": {
   "display_name": "Python 3 (ipykernel)",
   "language": "python",
   "name": "python3"
  },
  "language_info": {
   "codemirror_mode": {
    "name": "ipython",
    "version": 3
   },
   "file_extension": ".py",
   "mimetype": "text/x-python",
   "name": "python",
   "nbconvert_exporter": "python",
   "pygments_lexer": "ipython3",
   "version": "3.14.0"
  }
 },
 "nbformat": 4,
 "nbformat_minor": 5
}
