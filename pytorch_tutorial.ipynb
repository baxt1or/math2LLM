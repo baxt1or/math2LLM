{
 "cells": [
  {
   "cell_type": "code",
   "execution_count": 39,
   "id": "fa3e6f08",
   "metadata": {},
   "outputs": [],
   "source": [
    "import torch\n",
    "import torch.nn as nn\n",
    "import torch.nn.functional as F\n",
    "import pandas as pd\n",
    "import numpy as np\n",
    "import matplotlib.pyplot as plt\n",
    "import seaborn as sns\n",
    "import torch.optim as optim\n",
    "\n",
    "pd.set_option(\"display.max_columns\", None)"
   ]
  },
  {
   "cell_type": "code",
   "execution_count": null,
   "id": "c2fa382a",
   "metadata": {},
   "outputs": [
    {
     "name": "stdout",
     "output_type": "stream",
     "text": [
      "Train: torch.Size([455, 30]) and torch.Size([455, 1])\n",
      "Test: torch.Size([114, 30]) and torch.Size([114, 1])\n",
      "iter: 1 loss=0.6931472420692444\n",
      "iter: 101 loss=0.6931472420692444\n",
      "iter: 201 loss=0.6931472420692444\n",
      "iter: 301 loss=0.6931472420692444\n",
      "iter: 401 loss=0.6931472420692444\n",
      "iter: 501 loss=0.6931472420692444\n",
      "iter: 601 loss=0.6931472420692444\n",
      "iter: 701 loss=0.6931472420692444\n",
      "iter: 801 loss=0.6931472420692444\n",
      "iter: 901 loss=0.6931472420692444\n"
     ]
    }
   ],
   "source": [
    "from sklearn.datasets import load_breast_cancer\n",
    "\n",
    "\n",
    "torch.manual_seed(1331)\n",
    "\n",
    "data = load_breast_cancer()\n",
    "\n",
    "X = torch.tensor(data.data, dtype=torch.float32)\n",
    "y = torch.tensor(data.target, dtype=torch.float32).unsqueeze(-1)\n",
    "\n",
    "n = int(len(X)*0.8)\n",
    "\n",
    "X_train = X[:n]\n",
    "X_test = X[n:]\n",
    "y_train = y[:n]\n",
    "y_test = y[n:]\n",
    "\n",
    "print(f\"Train: {X_train.shape} and {y_train.shape}\")\n",
    "print(f\"Test: {X_test.shape} and {y_test.shape}\")\n",
    "\n",
    "\n",
    "\n",
    "class MiniNeuron(nn.Module):\n",
    "    def __init__(self):\n",
    "        super().__init__()\n",
    "        self.net = nn.Sequential(\n",
    "            nn.Linear(X_train.shape[1], X_train.shape[1]),\n",
    "            nn.Linear(X_train.shape[1], 1),\n",
    "            nn.Sigmoid()\n",
    "        )\n",
    "    \n",
    "    def forward(self, X):\n",
    "        return self.net(X)\n",
    "    \n",
    "# training the MLP\n",
    "model = MiniNeuron()\n",
    "\n",
    "critation = nn.BCEWithLogitsLoss()\n",
    "optimizer = optim.SGD(model.parameters(), lr=0.01)\n",
    "\n",
    "epochs = 1000\n",
    "eval_interval = epochs * 0.1\n",
    "\n",
    "for i in range(epochs):\n",
    "    y_pred = model(X_train)\n",
    "    loss = critation(y_pred, y_train)\n",
    "\n",
    "    optimizer.zero_grad()\n",
    "    loss.backward()\n",
    "    optimizer.step()\n",
    "\n",
    "    if i % eval_interval == 0:\n",
    "        print(f'iter: {i+1} loss={loss.item()}')"
   ]
  }
 ],
 "metadata": {
  "kernelspec": {
   "display_name": "Python 3",
   "language": "python",
   "name": "python3"
  },
  "language_info": {
   "codemirror_mode": {
    "name": "ipython",
    "version": 3
   },
   "file_extension": ".py",
   "mimetype": "text/x-python",
   "name": "python",
   "nbconvert_exporter": "python",
   "pygments_lexer": "ipython3",
   "version": "3.14.0"
  }
 },
 "nbformat": 4,
 "nbformat_minor": 5
}
